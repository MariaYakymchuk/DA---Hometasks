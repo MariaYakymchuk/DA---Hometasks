{
 "cells": [
  {
   "cell_type": "markdown",
   "metadata": {
    "id": "LwNpAFw_eTF3"
   },
   "source": [
    "#Домашнє завдання до тем apply(), groupby(), pivot_table()"
   ]
  },
  {
   "cell_type": "markdown",
   "metadata": {
    "id": "vP2PEJyq8Yrj"
   },
   "source": [
    "В цьому домашньому завданні продовжуємо працювати з набором даних `supermarket_sales.csv`."
   ]
  },
  {
   "cell_type": "markdown",
   "metadata": {
    "id": "dh9lfpDb8gBL"
   },
   "source": [
    "0. Імпортуйте бібліотеку pandas та зчитайте дані у змінну `df` типу `pandas.DataFrame`."
   ]
  },
  {
   "cell_type": "code",
   "execution_count": 3,
   "metadata": {
    "id": "xBI9gJMK8qnl"
   },
   "outputs": [],
   "source": [
    "import pandas as pd"
   ]
  },
  {
   "cell_type": "code",
   "execution_count": 5,
   "metadata": {},
   "outputs": [],
   "source": [
    "df = pd.read_csv('../data/supermarket_sales.csv')"
   ]
  },
  {
   "cell_type": "markdown",
   "metadata": {
    "id": "28638363"
   },
   "source": [
    "1. Дослідимо, який філіал супермаркету ('Branch') є найприбутковішим. Для цього знайдіть сумарний прибуток за кожним філіалом і виявіть, який філіал має найвищий."
   ]
  },
  {
   "cell_type": "code",
   "execution_count": 5,
   "metadata": {
    "ExecuteTime": {
     "end_time": "2022-11-01T17:27:42.023877Z",
     "start_time": "2022-11-01T17:27:42.020277Z"
    },
    "id": "916d731d"
   },
   "outputs": [
    {
     "data": {
      "text/plain": [
       "Branch\n",
       "C    110568.7065\n",
       "A    106200.3705\n",
       "B    106197.6720\n",
       "Name: Total, dtype: float64"
      ]
     },
     "execution_count": 5,
     "metadata": {},
     "output_type": "execute_result"
    }
   ],
   "source": [
    "df.groupby('Branch')['Total'].sum().sort_values(ascending=False)"
   ]
  },
  {
   "cell_type": "markdown",
   "metadata": {},
   "source": [
    "Філіал С має найвищий сумарний прибуток"
   ]
  },
  {
   "cell_type": "markdown",
   "metadata": {
    "id": "2qL_OddUCZKK"
   },
   "source": [
    "2. В якому місті знайходиться філіал з найвищим прибутком? Може в тому місці нам розмітисти ще один магазин.  \n",
    "Знайдіть відповідь за допомогою функціоналу Pandas."
   ]
  },
  {
   "cell_type": "code",
   "execution_count": 7,
   "metadata": {
    "id": "bBJUc1dWCwdi"
   },
   "outputs": [
    {
     "data": {
      "text/html": [
       "<div>\n",
       "<style scoped>\n",
       "    .dataframe tbody tr th:only-of-type {\n",
       "        vertical-align: middle;\n",
       "    }\n",
       "\n",
       "    .dataframe tbody tr th {\n",
       "        vertical-align: top;\n",
       "    }\n",
       "\n",
       "    .dataframe thead th {\n",
       "        text-align: right;\n",
       "    }\n",
       "</style>\n",
       "<table border=\"1\" class=\"dataframe\">\n",
       "  <thead>\n",
       "    <tr style=\"text-align: right;\">\n",
       "      <th></th>\n",
       "      <th></th>\n",
       "      <th>max</th>\n",
       "      <th>sum</th>\n",
       "    </tr>\n",
       "    <tr>\n",
       "      <th>Branch</th>\n",
       "      <th>City</th>\n",
       "      <th></th>\n",
       "      <th></th>\n",
       "    </tr>\n",
       "  </thead>\n",
       "  <tbody>\n",
       "    <tr>\n",
       "      <th>A</th>\n",
       "      <th>Yangon</th>\n",
       "      <td>1039.29</td>\n",
       "      <td>106200.3705</td>\n",
       "    </tr>\n",
       "    <tr>\n",
       "      <th>B</th>\n",
       "      <th>Mandalay</th>\n",
       "      <td>1022.49</td>\n",
       "      <td>106197.6720</td>\n",
       "    </tr>\n",
       "    <tr>\n",
       "      <th>C</th>\n",
       "      <th>Naypyitaw</th>\n",
       "      <td>1042.65</td>\n",
       "      <td>110568.7065</td>\n",
       "    </tr>\n",
       "  </tbody>\n",
       "</table>\n",
       "</div>"
      ],
      "text/plain": [
       "                      max          sum\n",
       "Branch City                           \n",
       "A      Yangon     1039.29  106200.3705\n",
       "B      Mandalay   1022.49  106197.6720\n",
       "C      Naypyitaw  1042.65  110568.7065"
      ]
     },
     "execution_count": 7,
     "metadata": {},
     "output_type": "execute_result"
    }
   ],
   "source": [
    "df.groupby(['Branch', 'City'])['Total'].agg(['max', 'sum'])"
   ]
  },
  {
   "cell_type": "code",
   "execution_count": 9,
   "metadata": {},
   "outputs": [
    {
     "data": {
      "text/plain": [
       "Branch  City     \n",
       "C       Naypyitaw    110568.7065\n",
       "A       Yangon       106200.3705\n",
       "B       Mandalay     106197.6720\n",
       "Name: Total, dtype: float64"
      ]
     },
     "execution_count": 9,
     "metadata": {},
     "output_type": "execute_result"
    }
   ],
   "source": [
    "df.groupby(['Branch', 'City'])['Total'].sum().sort_values(ascending=False)"
   ]
  },
  {
   "cell_type": "markdown",
   "metadata": {},
   "source": [
    "В місті Naypyitaw знаходиться філіал С з найвищим прибуком"
   ]
  },
  {
   "cell_type": "markdown",
   "metadata": {
    "id": "6dec795f"
   },
   "source": [
    "3.1. Створіть зводну таблицю, яка покаже, скільки покупок (інвойсів) було зроблено в кожній з філій (`Branch`) за різними категоріями товарів. Запишіть таблицю в змінну `invoices_by_category` і виведіть змінну на екран.\n",
    "Ця таблиця допоможе проаналізувати, в якій філії купують найбільше товарів кожної з категорій."
   ]
  },
  {
   "cell_type": "code",
   "execution_count": 11,
   "metadata": {
    "id": "N7TfUBf4ZrkX"
   },
   "outputs": [
    {
     "name": "stdout",
     "output_type": "stream",
     "text": [
      "Product line  Electronic accessories  Fashion accessories  Food and beverages  \\\n",
      "Branch                                                                          \n",
      "A                                 60                   51                  58   \n",
      "B                                 55                   62                  50   \n",
      "C                                 55                   65                  66   \n",
      "\n",
      "Product line  Health and beauty  Home and lifestyle  Sports and travel  \n",
      "Branch                                                                  \n",
      "A                            47                  65                 59  \n",
      "B                            53                  50                 62  \n",
      "C                            52                  45                 45  \n"
     ]
    }
   ],
   "source": [
    "invoices_by_category = df.pivot_table(index='Branch', columns='Product line', values='Invoice ID', aggfunc='count', fill_value=0)\n",
    "\n",
    "print(invoices_by_category)"
   ]
  },
  {
   "cell_type": "markdown",
   "metadata": {
    "ExecuteTime": {
     "end_time": "2022-11-01T16:50:46.961201Z",
     "start_time": "2022-11-01T16:50:46.955894Z"
    },
    "id": "f5bbfa34"
   },
   "source": [
    "Очікуваний результат:"
   ]
  },
  {
   "cell_type": "markdown",
   "metadata": {
    "id": "34b9bcdc"
   },
   "source": [
    "![](https://drive.google.com/uc?export=view&id=1rueAdko6S3UxIHGtojetTxlES-EyM6Yb)"
   ]
  },
  {
   "cell_type": "markdown",
   "metadata": {
    "id": "woygDEA0OSwJ"
   },
   "source": [
    "3.2. Викристовуючи змінну `invoices_by_category` дайте відповідь програмно (тобто значення треба не просто знайти очима, а вивести за допомогою коду), в якому філіалі магазину (`Branch`) найбільше інвойсів із покупкою товарів категорії \"Електронні аксесуари\" (`Electronic accessories`)?\n"
   ]
  },
  {
   "cell_type": "code",
   "execution_count": 15,
   "metadata": {},
   "outputs": [
    {
     "name": "stdout",
     "output_type": "stream",
     "text": [
      "Філіал з найбільшою кількістю інвойсів для категорії 'Electronic accessories': A\n"
     ]
    }
   ],
   "source": [
    "branch_with_max_invoices = invoices_by_category['Electronic accessories'].idxmax()\n",
    "print(f\"Філіал з найбільшою кількістю інвойсів для категорії 'Electronic accessories': {branch_with_max_invoices}\")"
   ]
  },
  {
   "cell_type": "markdown",
   "metadata": {
    "ExecuteTime": {
     "end_time": "2022-11-01T17:56:02.981755Z",
     "start_time": "2022-11-01T17:56:02.977086Z"
    },
    "id": "d005a2b8"
   },
   "source": [
    "4-6. **Творче завдання на розвиток аналітичного мислення**\n",
    "\n",
    "Крок 1. Сформулюйте ТРИ питання (гіпотези) до наявних даних, які допомогли б вам зрозуміти, які користувачі що, де та коли найбільше/найменше купують, аби дати на основі цих гіпотез рекомендації бізнесу. Звісно питання мають бути не тими, на які ми вже відповіли в завданнях модулю.\n",
    "\n",
    "Крок 2. Знайдіть відповіді на свої питання з допомогою функціоналу pandas.\n",
    "\n",
    "Крок 3. Напишіть, як відповідь на це питання може бути використана для прийняття бізнес рішень.   \n",
    "   \n",
    " Питання можуть бути будь-якої складності, але їх має бути 3. Кожне питання оцінюється як 1 завдання. Без виконання цього завдання ДЗ не приймається. Якщо є питання щодо виконання - пишіть у чат 🙌\n"
   ]
  },
  {
   "cell_type": "markdown",
   "metadata": {
    "id": "cM3cApWSZuRX"
   },
   "source": [
    "Гіпотеза 1:\n",
    "Питання: Які лінії продуктів (Product line) найбільше купують залежно від міста (City)?\n",
    "\n",
    "Аналітика: Це допоможе зрозуміти, які продукти популярні в різних містах, що дозволить краще управляти запасами та адаптувати маркетингові стратегії під конкретні регіони."
   ]
  },
  {
   "cell_type": "code",
   "execution_count": 25,
   "metadata": {},
   "outputs": [
    {
     "data": {
      "text/html": [
       "<div>\n",
       "<style scoped>\n",
       "    .dataframe tbody tr th:only-of-type {\n",
       "        vertical-align: middle;\n",
       "    }\n",
       "\n",
       "    .dataframe tbody tr th {\n",
       "        vertical-align: top;\n",
       "    }\n",
       "\n",
       "    .dataframe thead th {\n",
       "        text-align: right;\n",
       "    }\n",
       "</style>\n",
       "<table border=\"1\" class=\"dataframe\">\n",
       "  <thead>\n",
       "    <tr style=\"text-align: right;\">\n",
       "      <th>Product line</th>\n",
       "      <th>Electronic accessories</th>\n",
       "      <th>Fashion accessories</th>\n",
       "      <th>Food and beverages</th>\n",
       "      <th>Health and beauty</th>\n",
       "      <th>Home and lifestyle</th>\n",
       "      <th>Sports and travel</th>\n",
       "    </tr>\n",
       "    <tr>\n",
       "      <th>City</th>\n",
       "      <th></th>\n",
       "      <th></th>\n",
       "      <th></th>\n",
       "      <th></th>\n",
       "      <th></th>\n",
       "      <th></th>\n",
       "    </tr>\n",
       "  </thead>\n",
       "  <tbody>\n",
       "    <tr>\n",
       "      <th>Mandalay</th>\n",
       "      <td>55</td>\n",
       "      <td>62</td>\n",
       "      <td>50</td>\n",
       "      <td>53</td>\n",
       "      <td>50</td>\n",
       "      <td>62</td>\n",
       "    </tr>\n",
       "    <tr>\n",
       "      <th>Naypyitaw</th>\n",
       "      <td>55</td>\n",
       "      <td>65</td>\n",
       "      <td>66</td>\n",
       "      <td>52</td>\n",
       "      <td>45</td>\n",
       "      <td>45</td>\n",
       "    </tr>\n",
       "    <tr>\n",
       "      <th>Yangon</th>\n",
       "      <td>60</td>\n",
       "      <td>51</td>\n",
       "      <td>58</td>\n",
       "      <td>47</td>\n",
       "      <td>65</td>\n",
       "      <td>59</td>\n",
       "    </tr>\n",
       "  </tbody>\n",
       "</table>\n",
       "</div>"
      ],
      "text/plain": [
       "Product line  Electronic accessories  Fashion accessories  Food and beverages  \\\n",
       "City                                                                            \n",
       "Mandalay                          55                   62                  50   \n",
       "Naypyitaw                         55                   65                  66   \n",
       "Yangon                            60                   51                  58   \n",
       "\n",
       "Product line  Health and beauty  Home and lifestyle  Sports and travel  \n",
       "City                                                                    \n",
       "Mandalay                     53                  50                 62  \n",
       "Naypyitaw                    52                  45                 45  \n",
       "Yangon                       47                  65                 59  "
      ]
     },
     "execution_count": 25,
     "metadata": {},
     "output_type": "execute_result"
    }
   ],
   "source": [
    "df.groupby(['City', 'Product line']).size().unstack()"
   ]
  },
  {
   "cell_type": "markdown",
   "metadata": {},
   "source": [
    "Рекомендації: \n",
    "1.Відповідно до даних, бізнес може адаптувати запаси під кожне місто. Наприклад, у Mandalay можна збільшити запаси \"Fashion accessories\" і \"Sports and travel\", оскільки ці категорії мають високий попит. У Naypyitaw варто зосередитися на \"Food and beverages\", а в Yangon — на \"Home and lifestyle\" і \"Electronic accessories\". Це зменшить ризик надлишку товарів, які менш популярні в певних містах. \n",
    "2.Бізнес може розробити спеціальні маркетингові кампанії, орієнтовані на популярні продукти в кожному місті. Наприклад, у Yangon варто більше інвестувати в рекламу \"Home and lifestyle\", тоді як у Naypyitaw можна активно просувати \"Food and beverages\". Це допоможе залучити більше клієнтів і збільшити продажі. \n",
    "3.Міста з різними уподобаннями можуть стати тестовими майданчиками для нових продуктів. Наприклад, якщо у Mandalay добре продаються \"Fashion accessories\", нові продукти цієї категорії можна перш за все запускати саме там."
   ]
  },
  {
   "cell_type": "markdown",
   "metadata": {},
   "source": [
    "Гіпотеза 2:\n",
    "Питання: Як податки впливають на загальну рентабельність?\n",
    "Аналітика: Це дозволить оптимізувати витрати та податкові зобов'язання для покращення загальної фінансової ефективності."
   ]
  },
  {
   "cell_type": "code",
   "execution_count": 50,
   "metadata": {},
   "outputs": [
    {
     "name": "stdout",
     "output_type": "stream",
     "text": [
      "Total Tax: 15379.368999999999\n",
      "Total COGS: 307587.38\n",
      "Tax to COGS Ratio: 5.00%\n"
     ]
    }
   ],
   "source": [
    "total_tax = df['Tax 5%'].sum()\n",
    "total_cogs = df['cogs'].sum()\n",
    "\n",
    "print(f\"Total Tax: {total_tax}\")\n",
    "print(f\"Total COGS: {total_cogs}\")\n",
    "\n",
    "if total_cogs > 0:\n",
    "    tax_cogs = total_tax / total_cogs\n",
    "    print(f\"Tax to COGS Ratio: {tax_cogs:.2%}\")"
   ]
  },
  {
   "cell_type": "markdown",
   "metadata": {},
   "source": [
    "Рекомендації: Сума податків (15,379.37) є досить суттєвою, але для повного розуміння необхідно порівняти ці дані з загальними доходами компанії.\n",
    "Витрати (COGS): Загальна сума витрат на виробництво та закупівлю товарів складає 307,587.38. Це значна сума, яка впливає на рентабельність компанії.\n",
    "Співвідношення податків до витрат (5.00%): Це показує, що податки складають 5% від загальних витрат на товари. \n",
    "1. Варто перевірити, чи є можливість оптимізації податкових зобов'язань. Можливо, варто проконсультуватися з податковим консультантом, щоб дізнатися про доступні пільги або способи зменшення податкового навантаження.\n",
    "2. Варто преглянути витрати на закупівлю товарів, щоб зрозуміти, чи можна їх зменшити. Це може включати переговори з постачальниками для отримання кращих умов.\n",
    "3. Можна порівняти співвідношення податків до витрат з галузевими стандартами або середніми показниками. Це дозволить зрозуміти, чи співвідношення є нормальним, чи є місце для покращення."
   ]
  },
  {
   "cell_type": "markdown",
   "metadata": {},
   "source": [
    "Гіпотеза 3: Аналіз рентабельності за типами клієнтів. Якщо члени приносать більше прибутку, подумайте про розробку програми лояльності або спеціальних акцій для них."
   ]
  },
  {
   "cell_type": "code",
   "execution_count": 66,
   "metadata": {},
   "outputs": [
    {
     "data": {
      "text/html": [
       "<div>\n",
       "<style scoped>\n",
       "    .dataframe tbody tr th:only-of-type {\n",
       "        vertical-align: middle;\n",
       "    }\n",
       "\n",
       "    .dataframe tbody tr th {\n",
       "        vertical-align: top;\n",
       "    }\n",
       "\n",
       "    .dataframe thead th {\n",
       "        text-align: right;\n",
       "    }\n",
       "</style>\n",
       "<table border=\"1\" class=\"dataframe\">\n",
       "  <thead>\n",
       "    <tr style=\"text-align: right;\">\n",
       "      <th></th>\n",
       "      <th>total_sales</th>\n",
       "      <th>avg_gross_margin_percentage</th>\n",
       "    </tr>\n",
       "    <tr>\n",
       "      <th>Customer type</th>\n",
       "      <th></th>\n",
       "      <th></th>\n",
       "    </tr>\n",
       "  </thead>\n",
       "  <tbody>\n",
       "    <tr>\n",
       "      <th>Member</th>\n",
       "      <td>164223.444</td>\n",
       "      <td>4.761905</td>\n",
       "    </tr>\n",
       "    <tr>\n",
       "      <th>Normal</th>\n",
       "      <td>158743.305</td>\n",
       "      <td>4.761905</td>\n",
       "    </tr>\n",
       "  </tbody>\n",
       "</table>\n",
       "</div>"
      ],
      "text/plain": [
       "               total_sales  avg_gross_margin_percentage\n",
       "Customer type                                          \n",
       "Member          164223.444                     4.761905\n",
       "Normal          158743.305                     4.761905"
      ]
     },
     "execution_count": 66,
     "metadata": {},
     "output_type": "execute_result"
    }
   ],
   "source": [
    "df.groupby('Customer type').agg(total_sales = ('Total', 'sum'), avg_gross_margin_percentage = ('gross margin percentage', 'mean'))"
   ]
  },
  {
   "cell_type": "markdown",
   "metadata": {},
   "source": [
    "Результат:Загальний дохід від членів трохи вищий за дохід від звичайних клієнтів.\n",
    "Середня рентабельність (gross margin percentage) є однаковою для обох типів клієнтів — 4.76%.\n",
    "Висновок: Незалежно від типу клієнта, рентабельність залишається стабільною. \n",
    "\n",
    "Рекомендації:\n",
    "1. Зосередьтеся на залученні більше членів: оскільки доходи від членів є вищими, розгляньте можливість розширення програми лояльності або створення нових переваг для членів. Це може включати спеціальні акції, знижки або ексклюзивні продукти для членів.\n",
    "2. Розгляньте можливість покращення програми лояльності: оскільки рентабельність однакова для обох типів клієнтів, підвищення кількості членів може бути вигідним для бізнесу. Можливо, варто інвестувати в маркетинг та рекламу для залучення нових членів.\n"
   ]
  }
 ],
 "metadata": {
  "colab": {
   "provenance": []
  },
  "kernelspec": {
   "display_name": "Python 3 (ipykernel)",
   "language": "python",
   "name": "python3"
  },
  "language_info": {
   "codemirror_mode": {
    "name": "ipython",
    "version": 3
   },
   "file_extension": ".py",
   "mimetype": "text/x-python",
   "name": "python",
   "nbconvert_exporter": "python",
   "pygments_lexer": "ipython3",
   "version": "3.12.4"
  }
 },
 "nbformat": 4,
 "nbformat_minor": 4
}
